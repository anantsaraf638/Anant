{
 "cells": [
  {
   "cell_type": "code",
   "execution_count": 4,
   "id": "714250c5-59df-4712-a163-27eddb54fe20",
   "metadata": {},
   "outputs": [
    {
     "name": "stdout",
     "output_type": "stream",
     "text": [
      "Error: The file 'sample.txt' was not found.\n"
     ]
    }
   ],
   "source": [
    "try:\n",
    "    # Open and read the file\n",
    "    with open(\"sample.txt\", \"r\") as file:\n",
    "        # Print content line by line\n",
    "        for line in file:\n",
    "            print(line.strip())\n",
    "except FileNotFoundError:\n",
    "    print(\"Error: The file 'sample.txt' was not found.\")\n"
   ]
  },
  {
   "cell_type": "code",
   "execution_count": 7,
   "id": "e28af1af-f2aa-4ff0-a3d9-1a0d37f5c8ee",
   "metadata": {},
   "outputs": [
    {
     "name": "stdin",
     "output_type": "stream",
     "text": [
      "Enter some text to write to the file:  heelo, pyhton\n"
     ]
    },
    {
     "name": "stdout",
     "output_type": "stream",
     "text": [
      "Data written to output.txt.\n"
     ]
    },
    {
     "name": "stdin",
     "output_type": "stream",
     "text": [
      "Enter additional text to append to the file:  learning file handling in python\n"
     ]
    },
    {
     "name": "stdout",
     "output_type": "stream",
     "text": [
      "Additional data appended to output.txt.\n",
      "\n",
      "Final content of output.txt:\n",
      "heelo, pyhton\n",
      "learning file handling in python\n",
      "\n"
     ]
    }
   ],
   "source": [
    "# Step 1: Take user input and write it to a file\n",
    "user_input = input(\"Enter some text to write to the file: \")\n",
    "\n",
    "with open(\"output.txt\", \"w\") as file:\n",
    "    file.write(user_input + \"\\n\")\n",
    "\n",
    "print(\"Data written to output.txt.\")\n",
    "\n",
    "# Step 2: Append additional data to the same file\n",
    "additional_input = input(\"Enter additional text to append to the file: \")\n",
    "\n",
    "with open(\"output.txt\", \"a\") as file:\n",
    "    file.write(additional_input + \"\\n\")\n",
    "\n",
    "print(\"Additional data appended to output.txt.\")\n",
    "\n",
    "# Step 3: Read and display the final content of the file\n",
    "print(\"\\nFinal content of output.txt:\")\n",
    "with open(\"output.txt\", \"r\") as file:\n",
    "    content = file.read()\n",
    "    print(content)\n"
   ]
  },
  {
   "cell_type": "code",
   "execution_count": null,
   "id": "a776fe00-1dca-49f5-beda-2f620688a17b",
   "metadata": {},
   "outputs": [],
   "source": []
  }
 ],
 "metadata": {
  "kernelspec": {
   "display_name": "Python [conda env:base] *",
   "language": "python",
   "name": "conda-base-py"
  },
  "language_info": {
   "codemirror_mode": {
    "name": "ipython",
    "version": 3
   },
   "file_extension": ".py",
   "mimetype": "text/x-python",
   "name": "python",
   "nbconvert_exporter": "python",
   "pygments_lexer": "ipython3",
   "version": "3.12.7"
  }
 },
 "nbformat": 4,
 "nbformat_minor": 5
}
