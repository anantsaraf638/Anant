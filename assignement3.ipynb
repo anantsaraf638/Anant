{
 "cells": [
  {
   "cell_type": "code",
   "execution_count": 8,
   "id": "1970ecca-8c72-4387-8c50-7d24e097ca36",
   "metadata": {},
   "outputs": [
    {
     "name": "stdin",
     "output_type": "stream",
     "text": [
      "Enter a number:  5\n"
     ]
    },
    {
     "name": "stdout",
     "output_type": "stream",
     "text": [
      "The factorial of 5 is: 120\n"
     ]
    }
   ],
   "source": [
    "def factorial(n):\n",
    "    if n == 0 or n == 1:\n",
    "        return 1\n",
    "    else:\n",
    "        return n * factorial(n - 1)\n",
    "\n",
    "num = int(input(\"Enter a number: \"))\n",
    "fact = factorial(num)\n",
    "print(f\"The factorial of {num} is: {fact}\")\n"
   ]
  },
  {
   "cell_type": "code",
   "execution_count": 12,
   "id": "474dda1f-2a06-4b27-b97d-687674ca949a",
   "metadata": {},
   "outputs": [
    {
     "name": "stdin",
     "output_type": "stream",
     "text": [
      "Enter a number:  25\n"
     ]
    },
    {
     "name": "stdout",
     "output_type": "stream",
     "text": [
      "Square root: 5.0\n",
      "Natural logarithm: 3.2188758248682006\n",
      "Sine (in radians): -0.13235175009777303\n"
     ]
    }
   ],
   "source": [
    "import math\n",
    "\n",
    "# Ask the user for a number\n",
    "num = float(input(\"Enter a number: \"))\n",
    "\n",
    "# Calculate square root\n",
    "sqrt_result = math.sqrt(num)\n",
    "\n",
    "# Calculate natural logarithm (log base e)\n",
    "if num > 0:\n",
    "    log_result = math.log(num)\n",
    "else:\n",
    "    log_result = \"Undefined (logarithm only defined for positive numbers)\"\n",
    "\n",
    "# Calculate sine (input in radians)\n",
    "sine_result = math.sin(num)\n",
    "\n",
    "# Display the results\n",
    "\n",
    "print(f\"Square root: {sqrt_result}\")\n",
    "print(f\"Natural logarithm: {log_result}\")\n",
    "print(f\"Sine (in radians): {sine_result}\")\n"
   ]
  },
  {
   "cell_type": "code",
   "execution_count": null,
   "id": "4ac5cd70-f70c-4648-a601-0111606315aa",
   "metadata": {},
   "outputs": [],
   "source": []
  }
 ],
 "metadata": {
  "kernelspec": {
   "display_name": "Python [conda env:base] *",
   "language": "python",
   "name": "conda-base-py"
  },
  "language_info": {
   "codemirror_mode": {
    "name": "ipython",
    "version": 3
   },
   "file_extension": ".py",
   "mimetype": "text/x-python",
   "name": "python",
   "nbconvert_exporter": "python",
   "pygments_lexer": "ipython3",
   "version": "3.12.7"
  }
 },
 "nbformat": 4,
 "nbformat_minor": 5
}
