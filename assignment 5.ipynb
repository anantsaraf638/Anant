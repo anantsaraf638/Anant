{
 "cells": [
  {
   "cell_type": "code",
   "execution_count": 6,
   "id": "51a9cfbf-cc12-4eab-a290-ce3a505b458b",
   "metadata": {},
   "outputs": [
    {
     "name": "stdin",
     "output_type": "stream",
     "text": [
      "Enter the student's name:  Ethan\n"
     ]
    },
    {
     "name": "stdout",
     "output_type": "stream",
     "text": [
      "Ethan's marks: 76\n"
     ]
    }
   ],
   "source": [
    "\n",
    "student_marks = {\n",
    "    \"Alice\": 85,\n",
    "    \"Bob\": 92,\n",
    "    \"Charlie\": 78,\n",
    "    \"Diana\": 88,\n",
    "    \"Ethan\": 76\n",
    "}\n",
    "\n",
    "\n",
    "student_name = input(\"Enter the student's name: \")\n",
    "\n",
    "\n",
    "if student_name in student_marks:\n",
    "    print(f\"{student_name}'s marks: {student_marks[student_name]}\")\n",
    "else:\n",
    "    print(f\"Student named '{student_name}' not found in the records.\")\n"
   ]
  },
  {
   "cell_type": "code",
   "execution_count": 14,
   "id": "5c03b776-6545-4d51-af1f-16eef7195056",
   "metadata": {},
   "outputs": [
    {
     "name": "stdout",
     "output_type": "stream",
     "text": [
      "Original list: [1, 2, 3, 4, 5, 6, 7, 8, 9, 10]\n",
      "Extracted first five elements: [1, 2, 3, 4, 5]\n",
      "Reversed extracted elements: [5, 4, 3, 2, 1]\n"
     ]
    }
   ],
   "source": [
    "\n",
    "numbers = list(range(1, 11))\n",
    "\n",
    "\n",
    "first_five = numbers[:5]\n",
    "\n",
    "\n",
    "reversed_five = first_five[::-1]\n",
    "\n",
    "\n",
    "print(\"Original list:\", numbers)\n",
    "print(\"Extracted first five elements:\", first_five)\n",
    "print(\"Reversed extracted elements:\", reversed_five)\n"
   ]
  },
  {
   "cell_type": "code",
   "execution_count": null,
   "id": "207c31ac-373a-44d0-afc1-f4e7e0d681fc",
   "metadata": {},
   "outputs": [],
   "source": []
  }
 ],
 "metadata": {
  "kernelspec": {
   "display_name": "Python [conda env:base] *",
   "language": "python",
   "name": "conda-base-py"
  },
  "language_info": {
   "codemirror_mode": {
    "name": "ipython",
    "version": 3
   },
   "file_extension": ".py",
   "mimetype": "text/x-python",
   "name": "python",
   "nbconvert_exporter": "python",
   "pygments_lexer": "ipython3",
   "version": "3.12.7"
  }
 },
 "nbformat": 4,
 "nbformat_minor": 5
}
