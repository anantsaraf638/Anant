{
 "cells": [
  {
   "cell_type": "code",
   "execution_count": 1,
   "id": "233b0ff5-d068-4e32-966c-6e2ec8008a57",
   "metadata": {},
   "outputs": [],
   "source": [
    "from PIL import Image\n",
    "import numpy as np\n",
    "\n",
    "def encrypt_image(input_path, output_path, key):\n",
    "    image = Image.open(input_path)\n",
    "    arr = np.array(image)\n",
    "    shape = arr.shape\n",
    "    flat_pixels = arr.flatten()\n",
    "    # Add key\n",
    "    enc_pixels = (flat_pixels + key) % 256\n",
    "    # Swap adjacent pixels\n",
    "    for i in range(0, len(enc_pixels) - 1, 2):\n",
    "        enc_pixels[i], enc_pixels[i+1] = enc_pixels[i+1], enc_pixels[i]\n",
    "    enc_arr = enc_pixels.reshape(shape)\n",
    "    enc_image = Image.fromarray(enc_arr.astype('uint8'))\n",
    "    enc_image.save(output_path)\n",
    "\n",
    "def decrypt_image(input_path, output_path, key):\n",
    "    image = Image.open(input_path)\n",
    "    arr = np.array(image)\n",
    "    shape = arr.shape\n",
    "    flat_pixels = arr.flatten()\n",
    "    # Undo swap\n",
    "    for i in range(0, len(flat_pixels) - 1, 2):\n",
    "        flat_pixels[i], flat_pixels[i+1] = flat_pixels[i+1], flat_pixels[i]\n",
    "    # Subtract key\n",
    "    dec_pixels = (flat_pixels - key) % 256\n",
    "    dec_arr = dec_pixels.reshape(shape)\n",
    "    dec_image = Image.fromarray(dec_arr.astype('uint8'))\n",
    "    dec_image.save(output_path)"
   ]
  },
  {
   "cell_type": "code",
   "execution_count": null,
   "id": "97e09a0c-9897-4c53-b40a-4bcfb167d605",
   "metadata": {},
   "outputs": [],
   "source": []
  }
 ],
 "metadata": {
  "kernelspec": {
   "display_name": "Python [conda env:base] *",
   "language": "python",
   "name": "conda-base-py"
  },
  "language_info": {
   "codemirror_mode": {
    "name": "ipython",
    "version": 3
   },
   "file_extension": ".py",
   "mimetype": "text/x-python",
   "name": "python",
   "nbconvert_exporter": "python",
   "pygments_lexer": "ipython3",
   "version": "3.12.7"
  }
 },
 "nbformat": 4,
 "nbformat_minor": 5
}
