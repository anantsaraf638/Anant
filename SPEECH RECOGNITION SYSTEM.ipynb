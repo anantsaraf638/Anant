{
 "cells": [
  {
   "cell_type": "code",
   "execution_count": 1,
   "id": "9be3d3c0-79a1-4217-9ce6-fc2737898414",
   "metadata": {},
   "outputs": [
    {
     "name": "stdout",
     "output_type": "stream",
     "text": [
      "Requirement already satisfied: SpeechRecognition in c:\\users\\hp\\anaconda3\\lib\\site-packages (3.14.3)\n",
      "Collecting pyaudio\n",
      "  Downloading PyAudio-0.2.14-cp312-cp312-win_amd64.whl.metadata (2.7 kB)\n",
      "Requirement already satisfied: typing-extensions in c:\\users\\hp\\anaconda3\\lib\\site-packages (from SpeechRecognition) (4.14.1)\n",
      "Downloading PyAudio-0.2.14-cp312-cp312-win_amd64.whl (164 kB)\n",
      "Installing collected packages: pyaudio\n",
      "Successfully installed pyaudio-0.2.14\n"
     ]
    }
   ],
   "source": [
    "!pip install SpeechRecognition pyaudio\n"
   ]
  },
  {
   "cell_type": "code",
   "execution_count": 5,
   "id": "e124ed44-5ea3-412f-a9e8-4bd24d2d11dc",
   "metadata": {},
   "outputs": [
    {
     "name": "stdout",
     "output_type": "stream",
     "text": [
      "Speak something:\n",
      "Got it! Recognizing...\n",
      "Could not understand the audio\n"
     ]
    }
   ],
   "source": [
    "import speech_recognition as sr\n",
    "\n",
    "# Initialize recognizer\n",
    "r = sr.Recognizer()\n",
    "\n",
    "# Using your microphone as input\n",
    "with sr.Microphone() as source:\n",
    "    print(\"Speak something:\")\n",
    "    # Listen for the first phrase\n",
    "    audio = r.listen(source)\n",
    "    print(\"Got it! Recognizing...\")\n",
    "\n",
    "    try:\n",
    "        # Uses Google Web Speech API (requires internet)\n",
    "        text = r.recognize_google(audio)\n",
    "        print(\"You said:\", text)\n",
    "    except sr.UnknownValueError:\n",
    "        print(\"Could not understand the audio\")\n",
    "    except sr.RequestError as e:\n",
    "        print(\"API unavailable; {0}\".format(e))\n"
   ]
  },
  {
   "cell_type": "code",
   "execution_count": null,
   "id": "8cb70905-6b03-491b-b884-010ebd6a52ef",
   "metadata": {},
   "outputs": [],
   "source": []
  }
 ],
 "metadata": {
  "kernelspec": {
   "display_name": "Python [conda env:base] *",
   "language": "python",
   "name": "conda-base-py"
  },
  "language_info": {
   "codemirror_mode": {
    "name": "ipython",
    "version": 3
   },
   "file_extension": ".py",
   "mimetype": "text/x-python",
   "name": "python",
   "nbconvert_exporter": "python",
   "pygments_lexer": "ipython3",
   "version": "3.12.7"
  }
 },
 "nbformat": 4,
 "nbformat_minor": 5
}
