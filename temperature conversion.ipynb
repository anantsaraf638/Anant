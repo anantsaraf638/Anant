{
 "cells": [
  {
   "cell_type": "code",
   "execution_count": 1,
   "id": "583c2d5b-90cc-49f4-9f78-113948c41042",
   "metadata": {},
   "outputs": [
    {
     "name": "stdout",
     "output_type": "stream",
     "text": [
      "Temperature Converter\n",
      "Select conversion type:\n",
      "1. Celsius to Fahrenheit\n",
      "2. Fahrenheit to Celsius\n",
      "3. Celsius to Kelvin\n",
      "4. Kelvin to Celsius\n",
      "5. Fahrenheit to Kelvin\n",
      "6. Kelvin to Fahrenheit\n"
     ]
    },
    {
     "name": "stdin",
     "output_type": "stream",
     "text": [
      "Enter choice (1-6):  1\n",
      "Enter temperature in Celsius:  32\n"
     ]
    },
    {
     "name": "stdout",
     "output_type": "stream",
     "text": [
      "32.0°C = 89.60°F\n"
     ]
    }
   ],
   "source": [
    "def convert_temperature():\n",
    "    print(\"Temperature Converter\")\n",
    "    print(\"Select conversion type:\")\n",
    "    print(\"1. Celsius to Fahrenheit\")\n",
    "    print(\"2. Fahrenheit to Celsius\")\n",
    "    print(\"3. Celsius to Kelvin\")\n",
    "    print(\"4. Kelvin to Celsius\")\n",
    "    print(\"5. Fahrenheit to Kelvin\")\n",
    "    print(\"6. Kelvin to Fahrenheit\")\n",
    "\n",
    "    choice = input(\"Enter choice (1-6): \")\n",
    "\n",
    "    if choice == '1':\n",
    "        c = float(input(\"Enter temperature in Celsius: \"))\n",
    "        f = (c * 9/5) + 32\n",
    "        print(f\"{c}°C = {f:.2f}°F\")\n",
    "\n",
    "    elif choice == '2':\n",
    "        f = float(input(\"Enter temperature in Fahrenheit: \"))\n",
    "        c = (f - 32) * 5/9\n",
    "        print(f\"{f}°F = {c:.2f}°C\")\n",
    "\n",
    "    elif choice == '3':\n",
    "        c = float(input(\"Enter temperature in Celsius: \"))\n",
    "        k = c + 273.15\n",
    "        print(f\"{c}°C = {k:.2f}K\")\n",
    "\n",
    "    elif choice == '4':\n",
    "        k = float(input(\"Enter temperature in Kelvin: \"))\n",
    "        c = k - 273.15\n",
    "        print(f\"{k}K = {c:.2f}°C\")\n",
    "\n",
    "    elif choice == '5':\n",
    "        f = float(input(\"Enter temperature in Fahrenheit: \"))\n",
    "        k = (f - 32) * 5/9 + 273.15\n",
    "        print(f\"{f}°F = {k:.2f}K\")\n",
    "\n",
    "    elif choice == '6':\n",
    "        k = float(input(\"Enter temperature in Kelvin: \"))\n",
    "        f = (k - 273.15) * 9/5 + 32\n",
    "        print(f\"{k}K = {f:.2f}°F\")\n",
    "\n",
    "    else:\n",
    "        print(\"Invalid input\")\n",
    "\n",
    "convert_temperature()\n"
   ]
  },
  {
   "cell_type": "code",
   "execution_count": null,
   "id": "6a6c02cd-1bb4-4e55-9514-7dcdaf0297ed",
   "metadata": {},
   "outputs": [],
   "source": []
  }
 ],
 "metadata": {
  "kernelspec": {
   "display_name": "Python [conda env:base] *",
   "language": "python",
   "name": "conda-base-py"
  },
  "language_info": {
   "codemirror_mode": {
    "name": "ipython",
    "version": 3
   },
   "file_extension": ".py",
   "mimetype": "text/x-python",
   "name": "python",
   "nbconvert_exporter": "python",
   "pygments_lexer": "ipython3",
   "version": "3.12.7"
  }
 },
 "nbformat": 4,
 "nbformat_minor": 5
}
