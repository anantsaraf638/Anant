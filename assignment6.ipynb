{
 "cells": [
  {
   "cell_type": "code",
   "execution_count": 6,
   "id": "5d4aaae1-12ef-4be9-8a57-175954c7dd33",
   "metadata": {},
   "outputs": [],
   "source": [
    "from tkinter import *\n",
    "\n",
    "def click(event):\n",
    "    current = str(entry.get())\n",
    "    button_text = event.widget.cget(\"text\")\n",
    "\n",
    "    if button_text == \"=\":\n",
    "        try:\n",
    "            result = eval(current)\n",
    "            entry.delete(0, END)\n",
    "            entry.insert(END, result)\n",
    "        except:\n",
    "            entry.delete(0, END)\n",
    "            entry.insert(END, \"Error\")\n",
    "    elif button_text == \"C\":\n",
    "        entry.delete(0, END)\n",
    "    else:\n",
    "        entry.insert(END, button_text)\n",
    "\n",
    "# Main window\n",
    "root = Tk()\n",
    "root.title(\"Simple Calculator\")\n",
    "root.geometry(\"300x400\")\n",
    "\n",
    "# Entry field\n",
    "entry = Entry(root, font=\"Arial 20\")\n",
    "entry.grid(row=0, column=0, columnspan=4, ipadx=8, ipady=8, padx=10, pady=10)\n",
    "\n",
    "# Buttons layout\n",
    "buttons = [\n",
    "    ['7', '8', '9', '/'],\n",
    "    ['4', '5', '6', '*'],\n",
    "    ['1', '2', '3', '-'],\n",
    "    ['C', '0', '=', '+']\n",
    "]\n",
    "\n",
    "# Create buttons using grid\n",
    "for i, row in enumerate(buttons):\n",
    "    for j, char in enumerate(row):\n",
    "        btn = Button(root, text=char, font=\"Arial 18\", width=5, height=2)\n",
    "        btn.grid(row=i+1, column=j, padx=5, pady=5)\n",
    "        btn.bind(\"<Button-1>\", click)\n",
    "\n",
    "root.mainloop()\n"
   ]
  },
  {
   "cell_type": "code",
   "execution_count": null,
   "id": "b946b036-c923-4b47-98b4-8daf17ce55e9",
   "metadata": {},
   "outputs": [],
   "source": []
  }
 ],
 "metadata": {
  "kernelspec": {
   "display_name": "Python [conda env:base] *",
   "language": "python",
   "name": "conda-base-py"
  },
  "language_info": {
   "codemirror_mode": {
    "name": "ipython",
    "version": 3
   },
   "file_extension": ".py",
   "mimetype": "text/x-python",
   "name": "python",
   "nbconvert_exporter": "python",
   "pygments_lexer": "ipython3",
   "version": "3.12.7"
  }
 },
 "nbformat": 4,
 "nbformat_minor": 5
}
