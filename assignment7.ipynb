{
 "cells": [
  {
   "cell_type": "code",
   "execution_count": 12,
   "id": "b03da783-d450-40db-b1c2-1aaa8ba4b705",
   "metadata": {},
   "outputs": [
    {
     "name": "stdout",
     "output_type": "stream",
     "text": [
      "Requirement already satisfied: psycopg2-binary in c:\\users\\hp\\anaconda3\\lib\\site-packages (2.9.10)\n",
      "Connection error: connection to server at \"localhost\" (::1), port 5432 failed: Connection refused (0x0000274D/10061)\n",
      "\tIs the server running on that host and accepting TCP/IP connections?\n",
      "connection to server at \"localhost\" (127.0.0.1), port 5432 failed: Connection refused (0x0000274D/10061)\n",
      "\tIs the server running on that host and accepting TCP/IP connections?\n",
      "\n",
      "\n",
      "Troubleshooting steps:\n",
      "1. Verify PostgreSQL is installed and running\n",
      "2. Check if the database 'your_db' exists\n",
      "3. Verify username and password\n",
      "4. Make sure PostgreSQL is configured to accept connections\n",
      "5. Consider using a cloud database service instead of local installation\n"
     ]
    }
   ],
   "source": [
    "# Fix the typo in the installation command\n",
    "!pip install psycopg2-binary\n",
    "\n",
    "import psycopg2\n",
    "\n",
    "# Before running this code, make sure PostgreSQL is:\n",
    "# 1. Installed on your system\n",
    "# 2. Running as a service\n",
    "# 3. Configured to accept connections\n",
    "\n",
    "try:\n",
    "    # Connection parameters - replace with your actual credentials\n",
    "    conn = psycopg2.connect(\n",
    "        dbname=\"your_db\",      # Replace with your actual database name\n",
    "        user=\"your_user\",      # Replace with your actual username\n",
    "        password=\"your_password\", # Replace with your actual password\n",
    "        host=\"localhost\",      \n",
    "        port=\"5432\"            # Standard PostgreSQL port\n",
    "    )\n",
    "    \n",
    "    # Create a cursor\n",
    "    cur = conn.cursor()\n",
    "    \n",
    "    # Create table if it doesn't exist\n",
    "    cur.execute(\"\"\"\n",
    "    CREATE TABLE IF NOT EXISTS students (\n",
    "        id SERIAL PRIMARY KEY,\n",
    "        name VARCHAR(100),\n",
    "        age INTEGER\n",
    "    )\n",
    "    \"\"\")\n",
    "    conn.commit()\n",
    "    \n",
    "    # Insert data\n",
    "    cur.execute(\"INSERT INTO students (name, age) VALUES (%s, %s)\", (\"Alice\", 23))\n",
    "    conn.commit()\n",
    "    \n",
    "    # Query data\n",
    "    cur.execute(\"SELECT * FROM students\")\n",
    "    rows = cur.fetchall()\n",
    "    for row in rows:\n",
    "        print(row)\n",
    "    \n",
    "    # Close connections\n",
    "    cur.close()\n",
    "    conn.close()\n",
    "    \n",
    "except psycopg2.OperationalError as e:\n",
    "    print(f\"Connection error: {e}\")\n",
    "    print(\"\\nTroubleshooting steps:\")\n",
    "    print(\"1. Verify PostgreSQL is installed and running\")\n",
    "    print(\"2. Check if the database 'your_db' exists\")\n",
    "    print(\"3. Verify username and password\")\n",
    "    print(\"4. Make sure PostgreSQL is configured to accept connections\")\n",
    "    print(\"5. Consider using a cloud database service instead of local installation\")"
   ]
  },
  {
   "cell_type": "code",
   "execution_count": null,
   "id": "ebbe7098-4a9c-476c-82a3-af7dd99c6f61",
   "metadata": {},
   "outputs": [],
   "source": []
  }
 ],
 "metadata": {
  "kernelspec": {
   "display_name": "Python [conda env:base] *",
   "language": "python",
   "name": "conda-base-py"
  },
  "language_info": {
   "codemirror_mode": {
    "name": "ipython",
    "version": 3
   },
   "file_extension": ".py",
   "mimetype": "text/x-python",
   "name": "python",
   "nbconvert_exporter": "python",
   "pygments_lexer": "ipython3",
   "version": "3.12.7"
  }
 },
 "nbformat": 4,
 "nbformat_minor": 5
}
