{
 "cells": [
  {
   "cell_type": "code",
   "execution_count": 9,
   "id": "48e11056-5b82-4ad1-a85f-f93ed6d5fb51",
   "metadata": {},
   "outputs": [
    {
     "name": "stdin",
     "output_type": "stream",
     "text": [
      "Enter your message:  i am\n",
      "Enter shift value (integer):  2\n"
     ]
    },
    {
     "name": "stdout",
     "output_type": "stream",
     "text": [
      "Encrypted message: k co\n",
      "Decrypted message: i am\n"
     ]
    }
   ],
   "source": [
    "def caesar_encrypt(text, shift):\n",
    "    result = \"\"\n",
    "    for char in text:\n",
    "        if char.isalpha():\n",
    "            base = ord('A') if char.isupper() else ord('a')\n",
    "            enc_char = chr((ord(char) - base + shift) % 26 + base)\n",
    "            result += enc_char\n",
    "        else:\n",
    "            result += char\n",
    "    return result\n",
    "\n",
    "def caesar_decrypt(text, shift):\n",
    "    return caesar_encrypt(text, -shift)\n",
    "\n",
    "# Take message and shift value from user\n",
    "message = input(\"Enter your message: \")\n",
    "shift_value = int(input(\"Enter shift value (integer): \"))\n",
    "\n",
    "encrypted = caesar_encrypt(message, shift_value)\n",
    "decrypted = caesar_decrypt(encrypted, shift_value)\n",
    "\n",
    "print(\"Encrypted message:\", encrypted)\n",
    "print(\"Decrypted message:\", decrypted)"
   ]
  },
  {
   "cell_type": "code",
   "execution_count": null,
   "id": "9989b7ad-971e-486f-87aa-6fc8e2bb9898",
   "metadata": {},
   "outputs": [],
   "source": []
  }
 ],
 "metadata": {
  "kernelspec": {
   "display_name": "Python [conda env:base] *",
   "language": "python",
   "name": "conda-base-py"
  },
  "language_info": {
   "codemirror_mode": {
    "name": "ipython",
    "version": 3
   },
   "file_extension": ".py",
   "mimetype": "text/x-python",
   "name": "python",
   "nbconvert_exporter": "python",
   "pygments_lexer": "ipython3",
   "version": "3.12.7"
  }
 },
 "nbformat": 4,
 "nbformat_minor": 5
}
