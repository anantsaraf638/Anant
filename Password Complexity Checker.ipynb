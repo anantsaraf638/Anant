{
 "cells": [
  {
   "cell_type": "code",
   "execution_count": 3,
   "id": "db68eff9-803e-45a0-8059-97347a57484d",
   "metadata": {},
   "outputs": [
    {
     "name": "stdin",
     "output_type": "stream",
     "text": [
      "Enter a password to assess its strength:  Ishika@24\n"
     ]
    },
    {
     "name": "stdout",
     "output_type": "stream",
     "text": [
      "Password Strength: Moderate\n",
      "Feedback:\n",
      "- Password should be at least 12 characters long.\n"
     ]
    }
   ],
   "source": [
    "import re\n",
    "\n",
    "def assess_password_strength(password):\n",
    "    score = 0\n",
    "    feedback = []\n",
    "    # Criteria weights\n",
    "    length_weight = 1\n",
    "    upper_weight = 1\n",
    "    lower_weight = 1\n",
    "    digit_weight = 1\n",
    "    special_weight = 1\n",
    "\n",
    "    # Check length\n",
    "    if len(password) >= 12:\n",
    "        score += length_weight\n",
    "    else:\n",
    "        feedback.append(\"Password should be at least 12 characters long.\")\n",
    "    # Check uppercase\n",
    "    if re.search(r'[A-Z]', password):\n",
    "        score += upper_weight\n",
    "    else:\n",
    "        feedback.append(\"Add uppercase letters.\")\n",
    "    # Check lowercase\n",
    "    if re.search(r'[a-z]', password):\n",
    "        score += lower_weight\n",
    "    else:\n",
    "        feedback.append(\"Add lowercase letters.\")\n",
    "    # Check digits\n",
    "    if re.search(r'[0-9]', password):\n",
    "        score += digit_weight\n",
    "    else:\n",
    "        feedback.append(\"Include numbers.\")\n",
    "    # Check special characters\n",
    "    if re.search(r'[^A-Za-z0-9]', password):\n",
    "        score += special_weight\n",
    "    else:\n",
    "        feedback.append(\"Include special characters (e.g., !, @, #, $).\")\n",
    "    \n",
    "    # Strength assessment\n",
    "    if score == 5:\n",
    "        strength = \"Strong\"\n",
    "    elif score >= 3:\n",
    "        strength = \"Moderate\"\n",
    "    else:\n",
    "        strength = \"Weak\"\n",
    "    \n",
    "    return {\n",
    "        \"score\": score,\n",
    "        \"strength\": strength,\n",
    "        \"feedback\": feedback\n",
    "    }\n",
    "\n",
    "# Take password input from user\n",
    "user_password = input(\"Enter a password to assess its strength: \")\n",
    "result = assess_password_strength(user_password)\n",
    "\n",
    "print(f\"Password Strength: {result['strength']}\")\n",
    "print(\"Feedback:\")\n",
    "for item in result['feedback']:\n",
    "    print(f\"- {item}\")\n"
   ]
  },
  {
   "cell_type": "code",
   "execution_count": null,
   "id": "cbcb5f44-d9b2-4828-b9c2-3154f635c0d0",
   "metadata": {},
   "outputs": [],
   "source": []
  }
 ],
 "metadata": {
  "kernelspec": {
   "display_name": "Python [conda env:base] *",
   "language": "python",
   "name": "conda-base-py"
  },
  "language_info": {
   "codemirror_mode": {
    "name": "ipython",
    "version": 3
   },
   "file_extension": ".py",
   "mimetype": "text/x-python",
   "name": "python",
   "nbconvert_exporter": "python",
   "pygments_lexer": "ipython3",
   "version": "3.12.7"
  }
 },
 "nbformat": 4,
 "nbformat_minor": 5
}
