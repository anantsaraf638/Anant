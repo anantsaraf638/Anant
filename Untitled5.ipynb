{
 "cells": [
  {
   "cell_type": "code",
   "execution_count": 4,
   "id": "9c3b1238-10c6-46b0-a5b6-d826dca3baed",
   "metadata": {},
   "outputs": [
    {
     "name": "stdin",
     "output_type": "stream",
     "text": [
      "Enter your first name:  anant\n",
      "Enter your last name:  saraf\n"
     ]
    },
    {
     "name": "stdout",
     "output_type": "stream",
     "text": [
      "Hello, anant saraf! Welcome to the python program.\n"
     ]
    }
   ],
   "source": [
    "# Take first name and last name as input from the user\n",
    "first_name = input(\"Enter your first name: \")\n",
    "last_name = input(\"Enter your last name: \")\n",
    "\n",
    "# Concatenate first name and last name to form full name\n",
    "full_name = first_name + \" \" + last_name\n",
    "\n",
    "# Print a personalized greeting message\n",
    "print(f\"Hello, {full_name}! Welcome to the python program.\")\n"
   ]
  },
  {
   "cell_type": "code",
   "execution_count": null,
   "id": "22856f31-9f69-4883-b3ed-5db083702627",
   "metadata": {},
   "outputs": [],
   "source": []
  }
 ],
 "metadata": {
  "kernelspec": {
   "display_name": "Python [conda env:base] *",
   "language": "python",
   "name": "conda-base-py"
  },
  "language_info": {
   "codemirror_mode": {
    "name": "ipython",
    "version": 3
   },
   "file_extension": ".py",
   "mimetype": "text/x-python",
   "name": "python",
   "nbconvert_exporter": "python",
   "pygments_lexer": "ipython3",
   "version": "3.12.7"
  }
 },
 "nbformat": 4,
 "nbformat_minor": 5
}
